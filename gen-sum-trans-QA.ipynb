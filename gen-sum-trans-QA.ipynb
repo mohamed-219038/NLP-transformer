{
  "nbformat": 4,
  "nbformat_minor": 0,
  "metadata": {
    "colab": {
      "provenance": []
    },
    "kernelspec": {
      "name": "python3",
      "display_name": "Python 3"
    },
    "language_info": {
      "name": "python"
    }
  },
  "cells": [
    {
      "cell_type": "code",
      "execution_count": null,
      "metadata": {
        "colab": {
          "base_uri": "https://localhost:8080/"
        },
        "id": "3QYaw9vFJ-mx",
        "outputId": "3d616131-1e67-4fcf-c930-753870701f85"
      },
      "outputs": [
        {
          "output_type": "stream",
          "name": "stdout",
          "text": [
            "Requirement already satisfied: transformers in /usr/local/lib/python3.12/dist-packages (4.56.2)\n",
            "Requirement already satisfied: filelock in /usr/local/lib/python3.12/dist-packages (from transformers) (3.19.1)\n",
            "Requirement already satisfied: huggingface-hub<1.0,>=0.34.0 in /usr/local/lib/python3.12/dist-packages (from transformers) (0.35.3)\n",
            "Requirement already satisfied: numpy>=1.17 in /usr/local/lib/python3.12/dist-packages (from transformers) (2.0.2)\n",
            "Requirement already satisfied: packaging>=20.0 in /usr/local/lib/python3.12/dist-packages (from transformers) (25.0)\n",
            "Requirement already satisfied: pyyaml>=5.1 in /usr/local/lib/python3.12/dist-packages (from transformers) (6.0.3)\n",
            "Requirement already satisfied: regex!=2019.12.17 in /usr/local/lib/python3.12/dist-packages (from transformers) (2024.11.6)\n",
            "Requirement already satisfied: requests in /usr/local/lib/python3.12/dist-packages (from transformers) (2.32.4)\n",
            "Requirement already satisfied: tokenizers<=0.23.0,>=0.22.0 in /usr/local/lib/python3.12/dist-packages (from transformers) (0.22.1)\n",
            "Requirement already satisfied: safetensors>=0.4.3 in /usr/local/lib/python3.12/dist-packages (from transformers) (0.6.2)\n",
            "Requirement already satisfied: tqdm>=4.27 in /usr/local/lib/python3.12/dist-packages (from transformers) (4.67.1)\n",
            "Requirement already satisfied: fsspec>=2023.5.0 in /usr/local/lib/python3.12/dist-packages (from huggingface-hub<1.0,>=0.34.0->transformers) (2025.3.0)\n",
            "Requirement already satisfied: typing-extensions>=3.7.4.3 in /usr/local/lib/python3.12/dist-packages (from huggingface-hub<1.0,>=0.34.0->transformers) (4.15.0)\n",
            "Requirement already satisfied: hf-xet<2.0.0,>=1.1.3 in /usr/local/lib/python3.12/dist-packages (from huggingface-hub<1.0,>=0.34.0->transformers) (1.1.10)\n",
            "Requirement already satisfied: charset_normalizer<4,>=2 in /usr/local/lib/python3.12/dist-packages (from requests->transformers) (3.4.3)\n",
            "Requirement already satisfied: idna<4,>=2.5 in /usr/local/lib/python3.12/dist-packages (from requests->transformers) (3.10)\n",
            "Requirement already satisfied: urllib3<3,>=1.21.1 in /usr/local/lib/python3.12/dist-packages (from requests->transformers) (2.5.0)\n",
            "Requirement already satisfied: certifi>=2017.4.17 in /usr/local/lib/python3.12/dist-packages (from requests->transformers) (2025.8.3)\n"
          ]
        }
      ],
      "source": [
        "pip install transformers"
      ]
    },
    {
      "cell_type": "code",
      "source": [
        "\n",
        "\n",
        "# Load the pre-trained BERT model for sentiment analysis\n",
        "from transformers import pipeline\n",
        "\n",
        "generator =pipeline(\"text-generation\", model=\"openai-community/gpt2\")"
      ],
      "metadata": {
        "colab": {
          "base_uri": "https://localhost:8080/"
        },
        "id": "FfumrfaENGxN",
        "outputId": "79a8edbc-310a-41fc-a99a-bf441fde46ef"
      },
      "execution_count": null,
      "outputs": [
        {
          "output_type": "stream",
          "name": "stderr",
          "text": [
            "/usr/local/lib/python3.12/dist-packages/huggingface_hub/utils/_auth.py:94: UserWarning: \n",
            "The secret `HF_TOKEN` does not exist in your Colab secrets.\n",
            "To authenticate with the Hugging Face Hub, create a token in your settings tab (https://huggingface.co/settings/tokens), set it as secret in your Google Colab and restart your session.\n",
            "You will be able to reuse this secret in all of your notebooks.\n",
            "Please note that authentication is recommended but still optional to access public models or datasets.\n",
            "  warnings.warn(\n",
            "Device set to use cpu\n"
          ]
        }
      ]
    },
    {
      "cell_type": "code",
      "source": [
        "gen=generator(\"egypt as a country is a\", max_length=90, num_return_sequences=1)"
      ],
      "metadata": {
        "colab": {
          "base_uri": "https://localhost:8080/"
        },
        "id": "wsAA52wcPUoX",
        "outputId": "40c26c78-9b96-49e0-c5f7-624ec729fe40"
      },
      "execution_count": 33,
      "outputs": [
        {
          "output_type": "stream",
          "name": "stderr",
          "text": [
            "Setting `pad_token_id` to `eos_token_id`:50256 for open-end generation.\n",
            "Both `max_new_tokens` (=256) and `max_length`(=90) seem to have been set. `max_new_tokens` will take precedence. Please refer to the documentation for more information. (https://huggingface.co/docs/transformers/main/en/main_classes/text_generation)\n"
          ]
        }
      ]
    },
    {
      "cell_type": "code",
      "source": [
        "print(gen)"
      ],
      "metadata": {
        "colab": {
          "base_uri": "https://localhost:8080/"
        },
        "id": "XzHGGPVVQYMq",
        "outputId": "3d57c119-943a-46f0-b5b7-81dada09ca70"
      },
      "execution_count": 34,
      "outputs": [
        {
          "output_type": "stream",
          "name": "stdout",
          "text": [
            "[{'generated_text': \"egypt as a country is a major source of revenue for the country and its governments.\\n\\n\\nThe country's tourism industry is one of the most lucrative in Africa. The country recently received a 1.4 billion dollar investment from the US, in part to promote tourism, according to the government.\\n\\nThe country's tourism industry is one of the most lucrative in Africa.\\n\\nThe country recently received a 1.4 billion dollar investment from the US, in part to promote tourism, according to the government.\\n\\nThe country's tourism industry is one of the most lucrative in Africa.\\n\\nThe country recently received a 1.4 billion dollar investment from the US, in part to promote tourism, according to the government.\\n\\nThe country's tourism industry is one of the most lucrative in Africa.\\n\\nThe country recently received a 1.4 billion dollar investment from the US, in part to promote tourism, according to the government.\\n\\nThe country's tourism industry is one of the most lucrative in Africa.\\n\\nThe country recently received a 1.4 billion dollar investment from the US, in part to promote tourism, according to the government.\\n\\nThe country's tourism industry is one of the most lucrative in Africa.\\n\\nThe country recently received a 1.4 billion\"}]\n"
          ]
        }
      ]
    },
    {
      "cell_type": "code",
      "source": [
        "summarizer=pipeline(\"summarization\",model=\"t5-small\")\n",
        "\n",
        "summary = summarizer(gen[0][\"generated_text\"])\n",
        "print(summary[0][\"summary_text\"])\n"
      ],
      "metadata": {
        "colab": {
          "base_uri": "https://localhost:8080/"
        },
        "id": "fETkKWNYPbB8",
        "outputId": "c5596e7f-0b43-4a49-8fc8-d75be80f7b31"
      },
      "execution_count": 35,
      "outputs": [
        {
          "output_type": "stream",
          "name": "stderr",
          "text": [
            "Device set to use cpu\n"
          ]
        },
        {
          "output_type": "stream",
          "name": "stdout",
          "text": [
            "the country recently received a 1.4 billion dollar investment from the us . the country's tourism industry is one of the most lucrative in Africa .\n"
          ]
        }
      ]
    },
    {
      "cell_type": "code",
      "source": [
        "translation=pipeline(\"translation_en_to_fr\",model=\"t5-small\")\n",
        "trans=translation(gen[0][\"generated_text\"],max_length=400)\n",
        "print(trans)"
      ],
      "metadata": {
        "colab": {
          "base_uri": "https://localhost:8080/"
        },
        "id": "qnZMzuxZQIdB",
        "outputId": "ea8ec237-75dc-4a12-fdc7-17a7fa572b1a"
      },
      "execution_count": 36,
      "outputs": [
        {
          "output_type": "stream",
          "name": "stderr",
          "text": [
            "Device set to use cpu\n",
            "Both `max_new_tokens` (=256) and `max_length`(=400) seem to have been set. `max_new_tokens` will take precedence. Please refer to the documentation for more information. (https://huggingface.co/docs/transformers/main/en/main_classes/text_generation)\n"
          ]
        },
        {
          "output_type": "stream",
          "name": "stdout",
          "text": [
            "[{'translation_text': \"L'Égypte est une source importante de revenus pour le pays et ses gouvernements. L'industrie touristique du pays est l'une des plus lucratives en Afrique. Le pays a récemment reçu 1,4 milliard de dollars des États-Unis, en partie pour promouvoir le tourisme, selon le gouvernement. L'industrie touristique du pays est l'une des plus lucratives en Afrique.\"}]\n"
          ]
        }
      ]
    },
    {
      "cell_type": "code",
      "source": [
        "qa = pipeline(\"question-answering\", model=\"distilbert-base-uncased-distilled-squad\")"
      ],
      "metadata": {
        "colab": {
          "base_uri": "https://localhost:8080/"
        },
        "id": "twSibxqdSqzW",
        "outputId": "b6bb434c-c012-406a-f8ba-65148272946d"
      },
      "execution_count": 37,
      "outputs": [
        {
          "output_type": "stream",
          "name": "stderr",
          "text": [
            "Device set to use cpu\n"
          ]
        }
      ]
    },
    {
      "cell_type": "code",
      "source": [
        "question_1 = \"What do you know about Egypt?\"\n",
        "context = gen[0][\"generated_text\"]\n",
        "\n",
        "result_1 = qa(question=question_1, context=context)\n",
        "\n",
        "print(\"Answer:\", result_1[\"answer\"])\n"
      ],
      "metadata": {
        "colab": {
          "base_uri": "https://localhost:8080/"
        },
        "id": "QDPF_Nf9TJAn",
        "outputId": "e608eb1c-94e0-4060-a0bc-10cf1ed340f0"
      },
      "execution_count": 38,
      "outputs": [
        {
          "output_type": "stream",
          "name": "stdout",
          "text": [
            "Answer: egypt as a country is a major source of revenue\n"
          ]
        }
      ]
    },
    {
      "cell_type": "code",
      "source": [
        "question_2 = \"why egypt as a country is a major source of revenue?\"\n",
        "context = gen[0][\"generated_text\"]\n",
        "\n",
        "result_2 = qa(question=question_2, context=context)\n",
        "\n",
        "print(\"Answer:\", result_2[\"answer\"])"
      ],
      "metadata": {
        "colab": {
          "base_uri": "https://localhost:8080/"
        },
        "id": "u6hMTv16Teb3",
        "outputId": "538594ef-aaed-4b78-f1d6-4be17b8942fe"
      },
      "execution_count": 40,
      "outputs": [
        {
          "output_type": "stream",
          "name": "stdout",
          "text": [
            "Answer: tourism industry is one of the most lucrative in Africa\n"
          ]
        }
      ]
    },
    {
      "cell_type": "code",
      "source": [],
      "metadata": {
        "id": "Bf-0XnReTkDC"
      },
      "execution_count": null,
      "outputs": []
    }
  ]
}